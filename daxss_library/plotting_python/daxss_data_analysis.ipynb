{
  "nbformat": 4,
  "nbformat_minor": 0,
  "metadata": {
    "colab": {
      "name": "daxss_data_analysis.ipynb",
      "provenance": [],
      "authorship_tag": "ABX9TyPBW4XFogRjuPJoxGj7ichE",
      "include_colab_link": true
    },
    "kernelspec": {
      "name": "python3",
      "display_name": "Python 3"
    },
    "language_info": {
      "name": "python"
    }
  },
  "cells": [
    {
      "cell_type": "markdown",
      "metadata": {
        "id": "view-in-github",
        "colab_type": "text"
      },
      "source": [
        "<a href=\"https://colab.research.google.com/github/anant-infinity/DAXSS_Data_Analysis/blob/master/daxss_data_analysis.ipynb\" target=\"_parent\"><img src=\"https://colab.research.google.com/assets/colab-badge.svg\" alt=\"Open In Colab\"/></a>"
      ]
    },
    {
      "cell_type": "markdown",
      "source": [
        "## **DAXSS Data Analysis and Spectral Fitting with Python (PyXSPEC)**\n",
        "\n",
        "> Anant Kumar T K, Email: anant.telikicherla@ualberta.ca\n",
        "\n",
        "Hello! This tutorial gives an overview of DAXSS Data Plotting and Spectral Analysis using Python. The Dual Aperture X-Ray Solar Spectrometer (DAXSS) is on board the INSPIRESat-1 mission, launched on 14th February 202. DAXSS has its heritage from the X123 instrument, which flew on the MinXSS CubeSat missions.\n",
        "\n",
        "# **Tutorial Overview**\n",
        "This tutorial uses the DAXSS level-1 netCDF4 file, which is downloaded using directly into the Google Collab Notebook. Given below is \n",
        "an overview of the various code snippets provided:\n",
        "\n",
        "\n",
        "*   **Code Snippet 1:** Downloads the DAXSS level-1 netCDF file from the MinXSS Dropbox\n",
        "*   **Code Snippet 2:** Installs and Imports all Python Pre-requisite packages\n",
        "*   **Code Snippet 3:** Loads the Level-1 file and displays metadata of ***all*** Level-1 variables\n",
        "*   **Code Snippet 4:** Displays metadata of ***a selected*** Level-1 variables\n",
        "*   **Code Snippet 5:** Example 1: Plotting 1-D variables. This code can be used to plot any 1-D variables in the Level-1 file. The user can set plot parameters in this snippet, and the *plot can be generated using code snippet 7*.\n",
        "*   **Code Snippet 6:** Example 2: Plotting 2-D variables. This code can be used to plot any 2-D variables in the Level-1 file. The user can set plot parameters in this snippet, and the *plot can be generated using code snippet 7*.\n",
        "*   **Code Snippet 7:** This code generates the plot as defined by the user in Code Snippets 5 and 6. By default, the user need not make any changes to this snippet. \n",
        "*   **Code Snippet 8:** Downloads GOES data using SunPy\n",
        "*   **Code Snippet 9:** Creates an overlay plot with DAXSS and GOES data. \n",
        "*   **Code Snippet 10:** Generates the Pulse Height Analyzer (.PHA) fits file that can be used for spectral fitting using PyXSPEC. \n",
        "*   **Code Snippet 11:** Performs a spectral fit of the DAXSS Energy Spectrum using vvapec model in PyXSPEC. This snippet cannot directly run in the Google collab since it involves installation of HEASoft (XSPEC, PyXSPEC). \n"
      ],
      "metadata": {
        "id": "IE6sX7_CMJzN"
      }
    },
    {
      "cell_type": "markdown",
      "source": [
        "# **Code Snippet 1**"
      ],
      "metadata": {
        "id": "XPNYjvyAa5Vg"
      }
    },
    {
      "cell_type": "code",
      "source": [
        "#Downloading the Level-1 DAXSS file into the google collab notebook\n",
        "!wget -O daxss_solarSXR_level1_2022-02-14-mission_v2.0.0.ncdf -cq https://www.dropbox.com/sh/0r40mfsphwgjghb/AADt9BFqcRf_vkunjNKf6Rjja/data/fm3/level1/daxss_solarSXR_level1_2022-02-14-mission_v2.0.0.ncdf?dl=0"
      ],
      "metadata": {
        "id": "xGPIA1tAOSCA"
      },
      "execution_count": null,
      "outputs": []
    },
    {
      "cell_type": "markdown",
      "source": [
        "# **Code Snippet 2**"
      ],
      "metadata": {
        "id": "zNd4XLvVbP_V"
      }
    },
    {
      "cell_type": "code",
      "source": [
        "#Installing dependencies\n",
        "!pip install matplotlib netCDF4 astropy datetime numpy xarray zeep drms sunpy \n",
        "\n",
        "# Importing all required Python Libraries\n",
        "import matplotlib.pyplot as plt\n",
        "import netCDF4 as nc\n",
        "from astropy.io import fits\n",
        "from matplotlib.dates import date2num, DateFormatter\n",
        "from dateutil import parser\n",
        "from datetime import datetime, timedelta\n",
        "import numpy as np\n",
        "import xarray\n",
        "from sunpy.net import Fido, attrs as a"
      ],
      "metadata": {
        "id": "aAzgwsdCrkXt"
      },
      "execution_count": null,
      "outputs": []
    },
    {
      "cell_type": "markdown",
      "source": [
        "# **Code Snippet 3**"
      ],
      "metadata": {
        "id": "1j1AcU5CbdKA"
      }
    },
    {
      "cell_type": "code",
      "source": [
        "#Loading the level-1 file\n",
        "daxss_level1_file_path = '/content/daxss_solarSXR_level1_2022-02-14-mission_v2.0.0.ncdf'\n",
        "daxsslevel1 = nc.Dataset(daxss_level1_file_path)\n",
        "\n",
        "#Print a List of all netCDF4 Variable\n",
        "level_1_var_list = list(daxsslevel1.variables)\n",
        "\n",
        "var_array = []\n",
        "for var in daxsslevel1.variables.values():\n",
        "  var_array.append(var)\n",
        "print(var_array)"
      ],
      "metadata": {
        "id": "MbubuYp8PPit"
      },
      "execution_count": null,
      "outputs": []
    },
    {
      "cell_type": "markdown",
      "source": [
        "# **Code Snippet 4**"
      ],
      "metadata": {
        "id": "C9Rj2rk0bfeP"
      }
    },
    {
      "cell_type": "code",
      "source": [
        "#Print Metadata of a particular variable\n",
        "chosen_variable = 'X123_SLOW_CORRECTED' #Change this according to your chosen variable\n",
        "\n",
        "for i in range(0, len(var_array)):\n",
        "  if(var_array[i].name == chosen_variable):\n",
        "    print(var_array[i])"
      ],
      "metadata": {
        "id": "ELsDd_1HP1LT"
      },
      "execution_count": null,
      "outputs": []
    },
    {
      "cell_type": "markdown",
      "source": [
        "# **Code Snippet 5**"
      ],
      "metadata": {
        "id": "xaMPh5vCbqjg"
      }
    },
    {
      "cell_type": "code",
      "source": [
        "#Example 1: Plotting 1-Dimension Variables\n",
        "plot_variable_x = 'TIME_YD'\n",
        "num_of_dimensions_x = 1 #1 => 1 dimension, 2 => 2 dimensions\n",
        "dimension_2_value_x = 0 #For 1-D variables let this be 0\n",
        "x_lim_low = 2022060.0\n",
        "x_lim_upper = 2022120.0\n",
        "x_scale = 'linear'\n",
        "x_label = 'Time in Year-Day Format'\n",
        "\n",
        "#Selecting the x-variable parameters\n",
        "plot_variable_y = 'X123_SLOW_CORRECTED'\n",
        "num_of_dimensions_y = 1 #1 => 1 dimension, 2 => 2 dimensions\n",
        "dimension_2_value_y = 0 #For 1-D variables let this be 0\n",
        "y_lim_low = 100\n",
        "y_lim_upper = 1000000\n",
        "y_scale = 'log'\n",
        "y_label = 'Count Per Second (CPS)'\n",
        "\n",
        "#Selecting the Plot Color\n",
        "plot_color_selected = 'red'\n",
        "\n",
        "#Select Plot Type: line or scatter\n",
        "plot_type = 'scatter'\n",
        "\n",
        "#Select Plot Legend \n",
        "plot_legend = 'CPS'\n",
        "\n",
        "#Enter Plot Title\n",
        "plot_title = 'DAXSS Mission CPS vs Time'\n",
        "\n"
      ],
      "metadata": {
        "id": "KjaMI5zjQidK"
      },
      "execution_count": null,
      "outputs": []
    },
    {
      "cell_type": "markdown",
      "source": [
        "# **Code Snippet 6**"
      ],
      "metadata": {
        "id": "hAhkfCIwbr4C"
      }
    },
    {
      "cell_type": "code",
      "source": [
        "#Example 2: Plotting 2 Dimension Variables\n",
        "plt.rcParams['figure.figsize'] = [20, 10]\n",
        "plot_variable_x = 'ENERGY'\n",
        "num_of_dimensions_x = 2 #1 => 1 dimension, 2 => 2 dimensions\n",
        "dimension_2_value_x = 0 #Set this to the appropriate index\n",
        "x_lim_low = 0\n",
        "x_lim_upper = 30\n",
        "x_scale = 'linear'\n",
        "x_label = 'Energy (keV)'\n",
        "\n",
        "#Selecting the x-variable parameters\n",
        "plot_variable_y = 'IRRADIANCE'\n",
        "num_of_dimensions_y = 2 #1 => 1 dimension, 2 => 2 dimensions\n",
        "dimension_2_value_y = 582 #Set this to the appropriate index\n",
        "y_lim_low = 100\n",
        "y_lim_upper = 10000000000\n",
        "y_scale = 'log'\n",
        "y_label = 'Irradiance'\n",
        "\n",
        "#Selecting the Plot Color\n",
        "plot_color_selected = 'red'\n",
        "\n",
        "#Select Plot Type: line or scatter\n",
        "plot_type = 'line'\n",
        "\n",
        "#Select Plot Legend \n",
        "plot_legend = 'Irradiance'\n",
        "\n",
        "#Enter Plot Title\n",
        "plot_title = 'Irradiance vs Energy'\n",
        "\n"
      ],
      "metadata": {
        "id": "P7XMI-gdRmKs"
      },
      "execution_count": null,
      "outputs": []
    },
    {
      "cell_type": "markdown",
      "source": [
        "# **Code Snippet 7**"
      ],
      "metadata": {
        "id": "oDQCkm87bsIr"
      }
    },
    {
      "cell_type": "code",
      "source": [
        "#Generate the Plot\n",
        "plt.rcParams['figure.figsize'] = [20, 10]\n",
        "fig, ax = plt.subplots()\n",
        "\n",
        "plt.xlim([float(x_lim_low), float(x_lim_upper)])\n",
        "plt.xscale(str(x_scale))\n",
        "plt.xlabel(str(x_label))\n",
        "\n",
        "plt.ylim([float(y_lim_low), float(y_lim_upper)])\n",
        "plt.yscale(str(y_scale))\n",
        "plt.ylabel(str(y_label))\n",
        "plt.suptitle(plot_title)\n",
        "\n",
        "if (num_of_dimensions_x == 1):\n",
        "  x_plot = daxsslevel1[plot_variable_x][:]\n",
        "elif (num_of_dimensions_x ==2):\n",
        "  x_plot = daxsslevel1[plot_variable_x][dimension_2_value_x, :]\n",
        "\n",
        "if (num_of_dimensions_y == 1):\n",
        "  y_plot = daxsslevel1[plot_variable_y][:]\n",
        "elif (num_of_dimensions_y ==2):\n",
        "  y_plot = daxsslevel1[plot_variable_y][dimension_2_value_y, :]\n",
        "\n",
        "color_code_array = [['black','k'], ['blue','b'],['red','r'],['green','g'],['yellow','y'],['cyan','c'],['magenta','m']]\n",
        "for i in range(len(color_code_array)):\n",
        "  if(color_code_array[i][0] == plot_color_selected):\n",
        "    chosen_plot_color = color_code_array[i][1]\n",
        "    break\n",
        "\n",
        "if(plot_type==\"line\"):\n",
        "  plt.plot(x_plot, y_plot, color=chosen_plot_color, label=str(plot_legend))\n",
        "elif (plot_type == \"scatter\"):\n",
        "  scatter = plt.scatter(x_plot, y_plot, color=chosen_plot_color, label=str(plot_legend))\n",
        "\n",
        "plt.legend()\n",
        "plt.show()\n",
        "plt.close()\n"
      ],
      "metadata": {
        "id": "StVdpbK0ZNV4",
        "colab": {
          "base_uri": "https://localhost:8080/",
          "height": 729
        },
        "outputId": "a8704b36-424c-4731-efe2-11b2f73ad3b7"
      },
      "execution_count": null,
      "outputs": [
        {
          "output_type": "display_data",
          "data": {
            "text/plain": [
              "<Figure size 1440x720 with 1 Axes>"
            ],
            "image/png": "[encoded data removed]"
          },
          "metadata": {
            "needs_background": "light"
          }
        }
      ]
    },
    {
      "cell_type": "markdown",
      "source": [
        "# **Code Snippet 8**"
      ],
      "metadata": {
        "id": "WFp7sVjfbvnD"
      }
    },
    {
      "cell_type": "code",
      "source": [
        "#Downloading GOES Data using SunPy\n",
        "#Searching\n",
        "results = Fido.search(a.Time(\"2022-03-15 00:00\", \"2022-03-15 23:59\"), a.Instrument(\"XRS\"), a.goes.SatelliteNumber(16))\n",
        "downloaded_files = Fido.fetch(results, path='/content/{file}')"
      ],
      "metadata": {
        "id": "nA-gH9lTRkNR"
      },
      "execution_count": null,
      "outputs": []
    },
    {
      "cell_type": "markdown",
      "source": [
        "# **Code Snippet 9**"
      ],
      "metadata": {
        "id": "fk38tXRlbv3x"
      }
    },
    {
      "cell_type": "code",
      "source": [
        "#Generating a overlay plot with GOES Data\n",
        "# Path to Level-1 File\n",
        "goes_file_path = '/content/sci_xrsf-l2-flx1s_g16_d20220315_v2-1-0.nc'\n",
        "# Import File as a netCDF Dataset\n",
        "goes_data = nc.Dataset(goes_file_path)\n",
        "\n",
        "time_ISO = daxsslevel1['TIME_ISO'][:]\n",
        "daxss_datetime_obj_array = []\n",
        "for time_index in range(len(time_ISO)):\n",
        "  time_ISO_String = []\n",
        "  for var_index in range(0, 20):\n",
        "    time_str = time_ISO[time_index][var_index].decode(\"utf-8\")\n",
        "    time_ISO_String.append(time_str)\n",
        "  daxss_datetime_obj_array.append(parser.parse(''.join(time_ISO_String)))\n",
        "\n",
        "daxss_time = date2num(daxss_datetime_obj_array)\n",
        "daxss_x123_slow_cps = daxsslevel1['X123_SLOW_CORRECTED'][:]\n",
        "\n",
        "goes_time_array = goes_data['time'][:]\n",
        "base_date = datetime(2000, 1, 1, 12, 0, 0)\n",
        "goes_datetime_obj_array = []\n",
        "\n",
        "for i in range(len(goes_time_array)):\n",
        "  curr_time = base_date + timedelta(seconds=int(goes_time_array[i]))\n",
        "  goes_datetime_obj_array.append(curr_time)\n",
        "\n",
        "goes_time = date2num(goes_datetime_obj_array)\n",
        "goes_flux_data = goes_data['xrsb_flux'][:]\n",
        "\n",
        "plt.figure()\n",
        "plt.rcParams[\"figure.figsize\"] = [20, 10]\n",
        "plt.rcParams[\"figure.autolayout\"] = True\n",
        "\n",
        "fig, ax1 = plt.subplots()\n",
        "\n",
        "ax1.plot_date(daxss_time, daxss_x123_slow_cps, 'o--', color='red', label=\"DAXSS Slow Counts\")\n",
        "ax1.set_ylabel(\"DAXSS Slow CPS (Counts/sec)\", color=\"red\", fontsize=12)\n",
        "ax2 = ax1.twinx()\n",
        "ax2.plot_date(goes_time, goes_flux_data, 'o:', color='blue', label=\"GOES XRS-B Flux\")\n",
        "ax2.set_ylabel(\"GOES XRS-B Flux (W/m^2)\", color=\"blue\", fontsize=12)\n",
        "ax1.xaxis.set_major_formatter(DateFormatter('%Y-%m-%d-%H-%M'))\n",
        "ax1.tick_params(rotation=45)\n",
        "plt.xlim([goes_time[-7200], goes_time[-1]])\n",
        "plt.show()\n",
        "plt.close()"
      ],
      "metadata": {
        "id": "ISFmEHh_nGjI",
        "colab": {
          "base_uri": "https://localhost:8080/",
          "height": 697
        },
        "outputId": "bfcc393e-b639-4156-d881-e6ba7687f586"
      },
      "execution_count": null,
      "outputs": [
        {
          "output_type": "display_data",
          "data": {
            "text/plain": [
              "<Figure size 1440x720 with 0 Axes>"
            ]
          },
          "metadata": {}
        },
        {
          "output_type": "display_data",
          "data": {
            "text/plain": [
              "<Figure size 1440x720 with 2 Axes>"
            ],
            "image/png": "[encoded data removed]"
          },
          "metadata": {
            "needs_background": "light"
          }
        }
      ]
    },
    {
      "cell_type": "markdown",
      "source": [
        "# **Code Snippet 10**"
      ],
      "metadata": {
        "id": "EW6csTzkbzP7"
      }
    },
    {
      "cell_type": "code",
      "source": [
        "# Creating the FITS PHA File \n",
        "spectrum_index = 582 #Change to chosen spectrum\n",
        "\n",
        "# Primary HDU - Header\n",
        "hdr_dummy = fits.Header()\n",
        "hdr_data = fits.Header()\n",
        "hdr_dummy['MISSION'] = \"InspireSat-1\"\n",
        "hdr_dummy['TELESCOP'] = \"InspireSat-1\"\n",
        "hdr_dummy['INSTRUME'] = \"DAXSS\"\n",
        "hdr_dummy['ORIGIN'] = \"LASP\"\n",
        "hdr_dummy['CREATOR'] = \"DAXSSPlotterUtility_v1\"\n",
        "hdr_dummy['CONTENT'] = \"Type-I PHA file\"\n",
        "\n",
        "#Data Header\n",
        "hdr_data['MISSION'] = \"InspireSat-1\"\n",
        "hdr_data['TELESCOP'] = \"InspireSat-1\"\n",
        "hdr_data['INSTRUME'] = \"DAXSS\"\n",
        "hdr_data['ORIGIN'] = \"LASP\"\n",
        "hdr_data['CREATOR'] = \"DAXSSPlotterUtility_v1\"\n",
        "hdr_data['CONTENT'] = \"SPECTRUM\"\n",
        "hdr_data['HDUCLASS'] = \"OGIP\"\n",
        "hdr_data['LONGSTRN'] = \"OGIP 1.0\"\n",
        "hdr_data['HDUCLAS1'] = \"SPECTRUM\"\n",
        "hdr_data['HDUVERS1'] = \"1.2.1\"\n",
        "hdr_data['HDUVERS'] = \"1.2.1\"\n",
        "\n",
        "hdr_data['AREASCAL'] = \"1\"\n",
        "hdr_data['BACKSCAL'] = \"1\"\n",
        "hdr_data['CORRSCAL'] = \"1\"\n",
        "hdr_data['BACKFILE'] = \"none\"\n",
        "\n",
        "hdr_data['RESPFILE'] = \"FITS_Files/minxss_fm3_RMF.fits\"\n",
        "hdr_data['ANCRFILE'] = \"FITS_Files/minxss_fm3_ARF.fits\"\n",
        "\n",
        "hdr_data['CHANTYPE'] = \"PHA\"\n",
        "hdr_data['POISSERR'] = \"F\"\n",
        "\n",
        "hdr_data['CORRFILE'] = \"none\"\n",
        "hdr_data['EXTNAME']  = 'SPECTRUM'\n",
        "hdr_data['FILTER']   = \"Be/Kapton\"\n",
        "hdr_data['EXPOSURE'] = \"9\"\n",
        "hdr_data['DETCHANS'] = \"1000\"\n",
        "hdr_data['GROUPING'] = \"0\"\n",
        "\n",
        "channel_number_array = []\n",
        "#quality_array = []\n",
        "systematic_error_array = []\n",
        "for i in range(1,1001,1):\n",
        "  channel_number_array.append(np.int32(i))\n",
        "  #quality_array.append(np.int16(1) - np.int16(daxsslevel1['VALID_FLAG'][y_dim_1.get(),i+5]))\n",
        "  systematic_error_array.append(np.float32(daxsslevel1['SPECTRUM_CPS_ACCURACY'][spectrum_index, i+5]/daxsslevel1['SPECTRUM_CPS'][spectrum_index,i+5]))\n",
        "\n",
        "c1 = channel_number_array\n",
        "c2 = daxsslevel1['SPECTRUM_CPS'][spectrum_index,6:1006]\n",
        "c3 = daxsslevel1['SPECTRUM_CPS_PRECISION'][spectrum_index, 6:1006] # Precision = Statitical Error\n",
        "c4 = systematic_error_array  # Accuracy = Systematic Error\n",
        "#c5 = quality_array\n",
        "\n",
        "# Creating and Storing the FITS File\n",
        "time_ISO_String = []\n",
        "for var_index in range(0, 20):\n",
        "  time_str = daxsslevel1['TIME_ISO'][int(spectrum_index)][var_index].decode(\"utf-8\")\n",
        "  time_ISO_String.append(time_str)\n",
        "\n",
        "hdr_dummy['FILENAME'] = 'minxss_fm3_PHA_'+''.join(time_ISO_String).replace(':', '-')+'.pha'\n",
        "hdr_dummy['DATE'] = ''.join(time_ISO_String).replace(':', '-')\n",
        "\n",
        "hdr_data['FILENAME'] = hdr_dummy['FILENAME']\n",
        "hdr_data['DATE'] =  hdr_dummy['DATE']\n",
        "\n",
        "# Data\n",
        "hdu_data = fits.BinTableHDU.from_columns(\n",
        "            [fits.Column(name='CHANNEL', format='J', array=c1),\n",
        "             fits.Column(name='RATE', format='E', array=c2),\n",
        "             fits.Column(name='STAT_ERR', format='E', array=c3),\n",
        "             fits.Column(name='SYS_ERR', format='E', array=c4)],header=hdr_data)\n",
        "             #fits.Column(name='QUALITY', format='J', array=c5)],\n",
        "dummy_primary = fits.PrimaryHDU(header=hdr_dummy)\n",
        "hdul = fits.HDUList([dummy_primary, hdu_data])\n",
        "\n",
        "filename_fits = '/content/minxss_fm3_PHA_'+''.join(time_ISO_String).replace(':', '-')+'.pha'\n",
        "hdul.writeto(filename_fits, overwrite=True)"
      ],
      "metadata": {
        "id": "B0AhLQ46o3Hs"
      },
      "execution_count": null,
      "outputs": []
    },
    {
      "cell_type": "markdown",
      "source": [
        "# **Code Snippet 11**\n",
        "This code cannot run directly in google collab, since it requires HEASoft (XSPEC, PyXSPEC) to be installed first. For installing HEASoft visit: https://heasarc.gsfc.nasa.gov/lheasoft/install.html"
      ],
      "metadata": {
        "id": "hULONXyOb1Ix"
      }
    },
    {
      "cell_type": "code",
      "source": [
        "#Model Fitting XSPEC\n",
        "from xspec import *\n",
        "\n",
        "#Defining a function of Fiting Energy Spectrum\n",
        "def fitModel(filename, selected_model, e_low, e_high, useNe, useMg, useSi, useS, useCa, useFe):\n",
        "    # Clearing Old Data + Models\n",
        "    print('**-' + e_low + ' ' + e_high + '-**')\n",
        "    AllData.clear()\n",
        "    AllModels.clear()\n",
        "\n",
        "    # Setting Feldman Abundances\n",
        "    Xset.abund = 'file FITS_Files/feld_extd'\n",
        "    logFile = Xset.openLog(\"Log_Files/\"+filename[-39:-4]+\"_Log.txt\")\n",
        "    #Xset.chatter = 5\n",
        "    #Xset.show()\n",
        "    # Loading the DAXSS spectrum\n",
        "    spec = Spectrum(filename)\n",
        "\n",
        "    spec.ignore('**-'+e_low+' '+e_high+'-**')\n",
        "\n",
        "    # define the model\n",
        "    m1 = Model(selected_model)\n",
        "    # Free some parameters that are frozen (Mg, Si, and S)\n",
        "\n",
        "    m1.vvapec.Ne.frozen = 1 - useNe\n",
        "    m1.vvapec.Mg.frozen = 1 - useMg\n",
        "    m1.vvapec.Si.frozen = 1 - useSi\n",
        "    m1.vvapec.S.frozen = 1 - useS\n",
        "    m1.vvapec.Ca.frozen= 1 - useCa\n",
        "    m1.vvapec.Fe.frozen = 1 - useFe\n",
        "\n",
        "    # do the fit\n",
        "    Fit.nIterations = 100\n",
        "    Fit.perform()\n",
        "    # plot data, model and del-chi\n",
        "    # Plot.device = '/xw'\n",
        "    Plot.xAxis = 'keV'\n",
        "    Plot('ld', 'delc')\n",
        "    ene = Plot.x(plotGroup=1, plotWindow=1)\n",
        "    eneErr = Plot.xErr(plotGroup=1, plotWindow=1)\n",
        "    spec = Plot.y(plotGroup=1, plotWindow=1)\n",
        "    specErr = Plot.yErr(plotGroup=1, plotWindow=1)\n",
        "\n",
        "    fitmodel = Plot.model(plotGroup=1, plotWindow=1)\n",
        "\n",
        "    delchi = Plot.y(plotGroup=1, plotWindow=2)\n",
        "    delchiErr = Plot.yErr(plotGroup=1, plotWindow=2)\n",
        "\n",
        "    fig0 = plt.figure(num=None, figsize=(6, 4), facecolor='w', edgecolor='k')\n",
        "\n",
        "    ax0 = fig0.add_axes([0.15, 0.4, 0.8, 0.55])\n",
        "    ax0.xaxis.set_visible(False)\n",
        "    plt.errorbar(ene, spec, xerr=eneErr, yerr=specErr, fmt='.', ms=0.5, capsize=1.0, lw=0.8, label='Data')\n",
        "    plt.step(ene, fitmodel, where='mid', label='Model')\n",
        "    plt.yscale(\"log\")\n",
        "    #plt.xscale(\"log\")\n",
        "    plt.xlim([float(e_low), float(e_high)])\n",
        "    # plt.ylim([1, 1e6])\n",
        "    plt.legend()\n",
        "    plt.ylabel('Rate (counts s$^{-1}$ keV$^{-1}$)')\n",
        "\n",
        "    ax1 = fig0.add_axes([0.15, 0.15, 0.8, 0.25])\n",
        "    plt.axhline(0, linestyle='dashed', color='black')\n",
        "    plt.errorbar(ene, delchi, xerr=eneErr, yerr=delchiErr, fmt='.', ms=0.1, capsize=1.0, lw=0.8)\n",
        "    plt.xlim([float(e_low), float(e_high)])\n",
        "    plt.ylabel('$\\Delta \\chi$')\n",
        "    plt.xlabel('Energy (keV)')\n",
        "    #plt.xscale(\"log\")\n",
        "    plt.savefig('Plot_Files/V2_0_0/'+ filename[-39:-4] + \"_Fit_Plot.png\")\n",
        "    plt.show()\n",
        "    plt.close()\n",
        "\n",
        "#Defining parameters for fitting\n",
        "fit_model = 'vvapec'\n",
        "e_lim_low = 0.4\n",
        "e_lim_high = 4.0\n",
        "useNe = 1 \n",
        "useMg = 1\n",
        "useSi = 1\n",
        "useS = 1\n",
        "useCa = 1\n",
        "useFe = 1\n",
        "\n",
        "#Calling the model fit function\n",
        "fitModel(filename_fits, str(fit_model.get()), \n",
        "                        str(e_lim_low), \n",
        "                        str(e_lim_high),\n",
        "                        useNe,\n",
        "                        useMg,\n",
        "                        useSi,\n",
        "                        useS,\n",
        "                        useCa,\n",
        "                        useFe)\n"
      ],
      "metadata": {
        "id": "eB0RfWfBrq-D"
      },
      "execution_count": null,
      "outputs": []
    }
  ]
}